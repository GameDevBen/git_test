{
  "nbformat": 4,
  "nbformat_minor": 0,
  "metadata": {
    "colab": {
      "provenance": [],
      "include_colab_link": true
    },
    "kernelspec": {
      "name": "python3",
      "display_name": "Python 3"
    },
    "language_info": {
      "name": "python"
    }
  },
  "cells": [
    {
      "cell_type": "markdown",
      "metadata": {
        "id": "view-in-github",
        "colab_type": "text"
      },
      "source": [
        "<a href=\"https://colab.research.google.com/github/GameDevBen/git_test/blob/main/concept_images.ipynb\" target=\"_parent\"><img src=\"https://colab.research.google.com/assets/colab-badge.svg\" alt=\"Open In Colab\"/></a>"
      ]
    },
    {
      "cell_type": "markdown",
      "source": [
        "# The fastest way to download concept images into GDrive\n",
        "Copy this code in TheLastBen/fast-stable-diffusion before the Concep images cell to load thousands of concep images from your Drive.\n",
        "\n",
        "Some useful repositories:\n",
        "\n",
        "- [JoePenna/Stable-Diffusion-Regularization-Images](https://github.com/JoePenna/Stable-Diffusion-Regularization-Images)\n",
        "- [ProGamerGov/StableDiffusion-v1-5-Regularization-Images](https://huggingface.co/datasets/ProGamerGov/StableDiffusion-v1-5-Regularization-Images)\n",
        "- [Nitrosocke/Regularization-images](https://drive.google.com/drive/folders/19pI70Ilfs0zwz1yYx-Pu8Q9vlOr9975M)"
      ],
      "metadata": {
        "id": "y2752gmr0jv0"
      }
    },
    {
      "cell_type": "code",
      "execution_count": null,
      "metadata": {
        "id": "vWqict13seLY"
      },
      "outputs": [],
      "source": [
        "# Download the zip file from any link. Replace this link with yours\n",
        "!wget https://huggingface.co/datasets/ProGamerGov/StableDiffusion-v1-5-Regularization-Images/resolve/main/woman_v1-5_mse_vae_ddim50_cfg7_n4420.zip\n",
        "\n",
        "#Unzip it so you can use it in the Dreambooth Colab. Replace this folder name with yours\n",
        "!unzip woman_v1-5_mse_vae_ddim50_cfg7_n4420.zip\n",
        "\n",
        "#Remove the zip file to save space. Replace this folder name with yours\n",
        "!rm woman_v1-5_mse_vae_ddim50_cfg7_n4420.zip\n",
        "\n",
        "#Rename copy folder to \"concept_images\"\n",
        "!mv woman_v1-5_mse_vae_ddim50_cfg7_n4420 concept_images"
      ]
    },
    {
      "cell_type": "markdown",
      "source": [
        "PS: Sometimes you'll want to take all the photos from the folder and send them to the above folder. Here is a code snippet to do that."
      ],
      "metadata": {
        "id": "3aB7IFNxf8a1"
      }
    },
    {
      "cell_type": "code",
      "source": [
        "import os\n",
        "import shutil\n",
        "\n",
        "# Set the folder name of the concept photos\n",
        "src_dir = 'artwork_style_neg_text_v1-5_mse_vae_dpm2SaKarras50_cfg7_n4200'\n",
        "\n",
        "# You'll send them where this notebook is located\n",
        "dest_dir = os.getcwd()\n",
        "\n",
        "# Get the list of files in the source directory\n",
        "files = os.listdir(src_dir)\n",
        "\n",
        "# Loop through the files\n",
        "for file in files:\n",
        "    # Check if the file is a regular file (not a directory)\n",
        "    if os.path.isfile(os.path.join(src_dir, file)):\n",
        "        # Construct the path to the file in the destination directory\n",
        "        dest_path = os.path.join(dest_dir, file)\n",
        "        # Move the file to the destination directory\n",
        "        shutil.move(os.path.join(src_dir, file), dest_path)"
      ],
      "metadata": {
        "id": "FVL8gV65g4T9"
      },
      "execution_count": null,
      "outputs": []
    }
  ]
}